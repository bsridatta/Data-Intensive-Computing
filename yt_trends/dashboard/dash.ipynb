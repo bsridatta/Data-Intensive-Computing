{
 "nbformat": 4,
 "nbformat_minor": 2,
 "metadata": {
  "language_info": {
   "name": "python",
   "codemirror_mode": {
    "name": "ipython",
    "version": 3
   }
  },
  "orig_nbformat": 2,
  "file_extension": ".py",
  "mimetype": "text/x-python",
  "name": "python",
  "npconvert_exporter": "python",
  "pygments_lexer": "ipython3",
  "version": 3
 },
 "cells": [
  {
   "cell_type": "code",
   "execution_count": 14,
   "metadata": {},
   "outputs": [
    {
     "name": "stdout",
     "output_type": "stream",
     "text": "<SparkContext master=local[*] appName=pyspark-shell>\n"
    }
   ],
   "source": [
    "import findspark\n",
    "import os\n",
    "\n",
    "SPARK_HOME=\"/home/datta/lab/_KTH_ACADEMIA/id2210/spark-2.4.3-bin-hadoop2.7\"\n",
    "findspark.init(SPARK_HOME)\n",
    "\n",
    "from pyspark import SparkContext\n",
    "\n",
    "sc = SparkContext.getOrCreate()\n",
    "print(sc)"
   ]
  },
  {
   "cell_type": "code",
   "execution_count": null,
   "metadata": {},
   "outputs": [],
   "source": []
  }
 ]
}