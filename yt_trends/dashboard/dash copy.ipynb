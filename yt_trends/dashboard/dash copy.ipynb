{
 "cells": [
  {
   "cell_type": "code",
   "execution_count": 8,
   "metadata": {},
   "outputs": [],
   "source": [
    "# Reference blog - https://towardsdatascience.com/bar-chart-race-in-python-with-matplotlib-8e687a5c8a41\n",
    "%matplotlib inline\n",
    "\n",
    "import findspark\n",
    "import os\n",
    "import time\n",
    "\n",
    "SPARK_HOME=\"/home/datta/lab/_KTH_ACADEMIA/id2210/spark-2.4.3-bin-hadoop2.7\"\n",
    "findspark.init(SPARK_HOME)\n",
    "\n",
    "from pyspark import SparkContext\n",
    "from pyspark.sql import SparkSession, SQLContext\n",
    "from pyspark.sql.functions import col, desc\n",
    "\n",
    "import pandas as pd\n",
    "import matplotlib.pyplot as plt\n",
    "import matplotlib.ticker as ticker\n",
    "import matplotlib.animation as animation\n",
    "from IPython.display import HTML\n",
    "from IPython import display\n",
    "\n",
    "sc = SparkContext\n",
    "\n",
    "spark = (SparkSession\n",
    "            .builder\n",
    "            .getOrCreate())"
   ]
  },
  {
   "cell_type": "code",
   "execution_count": 20,
   "metadata": {},
   "outputs": [
    {
     "name": "stderr",
     "output_type": "stream",
     "text": [
      "UsageError: Line magic function `%matplotlib.use('tkagg')` not found.\n"
     ]
    }
   ],
   "source": [
    "fig, ax = plt.subplots(1,1)\n",
    "plt.rcParams['figure.figsize'] = (15, 3)\n",
    "%matplotlib inline\n",
    "while True:\n",
    "        df = spark.read.load(\"./spark-warehouse/yt_viz\")\n",
    "        df = df.distinct()\n",
    "        df = df.orderBy(\"likeCount\", ascending=True)\n",
    "        df = df.toPandas()\n",
    "\n",
    "\n",
    "        colors = ['#adb0ff', '#ffb3ff', '#90d595', '#e48381',\n",
    "        '#aafbff', '#f7bb5f', '#eafb50']\n",
    "\n",
    "        _ = ax.clear()\n",
    "        _ = ax.barh(df['channelTitle'], df['likeCount'], color = colors)\n",
    "        _ = ax.text(0, 1.12, 'The most popular YouTube videos in Sweden right now',\n",
    "                transform=ax.transAxes, size=24, weight=600, ha='left')\n",
    "        _ = ax.set_axisbelow(True)\n",
    "        \n",
    "        _ = ax.grid(which='major', axis='x', linestyle='-')\n",
    "        _ = ax.margins(0, 0.01)\n",
    "        _ = ax.tick_params(axis='x', colors='#777777', labelsize=12)\n",
    "        _ = ax.tick_params(axis='y', labelsize=12)\n",
    "        _ = ax.xaxis.set_major_formatter(ticker.StrMethodFormatter('{x:,.0f}'))\n",
    "        _ = ax.xaxis.set_ticks_position('top')\n",
    "        _ = plt.box(False)\n",
    "        display.display(fig) \n",
    "        #plt.show()\n"
   ]
  },
  {
   "cell_type": "code",
   "execution_count": null,
   "metadata": {},
   "outputs": [],
   "source": []
  }
 ],
 "metadata": {
  "file_extension": ".py",
  "kernelspec": {
   "display_name": "Python 3",
   "language": "python",
   "name": "python3"
  },
  "language_info": {
   "codemirror_mode": {
    "name": "ipython",
    "version": 3
   },
   "file_extension": ".py",
   "mimetype": "text/x-python",
   "name": "python",
   "nbconvert_exporter": "python",
   "pygments_lexer": "ipython3",
   "version": "3.7.3"
  },
  "mimetype": "text/x-python",
  "name": "python",
  "npconvert_exporter": "python",
  "pygments_lexer": "ipython3",
  "version": 3
 },
 "nbformat": 4,
 "nbformat_minor": 2
}